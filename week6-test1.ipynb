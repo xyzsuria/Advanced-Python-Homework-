{
 "cells": [
  {
   "cell_type": "code",
   "execution_count": 1,
   "metadata": {
    "collapsed": false
   },
   "outputs": [
    {
     "data": {
      "text/plain": [
       "'C:\\\\Users\\\\Administrator\\\\mypyyyy'"
      ]
     },
     "execution_count": 1,
     "metadata": {},
     "output_type": "execute_result"
    }
   ],
   "source": [
    "import os\n",
    "os.getcwd()#获取当前工作路径"
   ]
  },
  {
   "cell_type": "code",
   "execution_count": 4,
   "metadata": {
    "collapsed": true
   },
   "outputs": [],
   "source": [
    "os.chdir('E:\\\\download\\\\books')#改变当前工作路径"
   ]
  },
  {
   "cell_type": "code",
   "execution_count": 5,
   "metadata": {
    "collapsed": false
   },
   "outputs": [
    {
     "data": {
      "text/plain": [
       "'E:\\\\download\\\\books'"
      ]
     },
     "execution_count": 5,
     "metadata": {},
     "output_type": "execute_result"
    }
   ],
   "source": [
    "os.getcwd()"
   ]
  },
  {
   "cell_type": "code",
   "execution_count": 8,
   "metadata": {
    "collapsed": false
   },
   "outputs": [
    {
     "name": "stdout",
     "output_type": "stream",
     "text": [
      "['1A_01.爱情与金钱.txt', '1A_02.苏格兰玛丽女王.txt', '1A_03.在月亮下面.txt', '1A_04.潘德尔的巫师.txt', '1A_05.歌剧院的幽灵.txt', '1A_06.猴爪.txt', '1A_07.象人.txt', '1A_08.世界上最冷的地方.txt']\n",
      "15\n"
     ]
    }
   ],
   "source": [
    "print(os.listdir())#读取文件夹下的文件名\n",
    "print(len(os.listdir()[0]))"
   ]
  },
  {
   "cell_type": "code",
   "execution_count": 12,
   "metadata": {
    "collapsed": false
   },
   "outputs": [
    {
     "name": "stdout",
     "output_type": "stream",
     "text": [
      "{'1A_01.爱情与金钱.txt': 44130, '1A_02.苏格兰玛丽女王.txt': 46896, '1A_03.在月亮下面.txt': 36327, '1A_04.潘德尔的巫师.txt': 41528, '1A_05.歌剧院的幽灵.txt': 46384, '1A_06.猴爪.txt': 33984, '1A_07.象人.txt': 37338, '1A_08.世界上最冷的地方.txt': 41883}\n"
     ]
    }
   ],
   "source": [
    "#1.读取压缩包 books.zip中解压缩后的文本文件，\n",
    "#以文件名为键，文件中文本的长度为值，组成一个字典；\n",
    "FileDict={}\n",
    "#LengthList=[]\n",
    "for i in os.listdir():\n",
    "    r=open(i)\n",
    "    length=len(r.read())\n",
    "    r.close()\n",
    "    FileDict[i]=length\n",
    "    #LengthList.append(length)\n",
    "print(FileDict)"
   ]
  },
  {
   "cell_type": "code",
   "execution_count": 13,
   "metadata": {
    "collapsed": false
   },
   "outputs": [
    {
     "name": "stdout",
     "output_type": "stream",
     "text": [
      "<class 'dict'>\n"
     ]
    }
   ],
   "source": [
    "#2. 将上述字典以json字符串的形式存入文本文件中；\n",
    "print(type(FileDict))"
   ]
  },
  {
   "cell_type": "code",
   "execution_count": 21,
   "metadata": {
    "collapsed": false
   },
   "outputs": [],
   "source": [
    "x=open('json.txt','w')\n",
    "x.write(str(FileDict))\n",
    "x.close()"
   ]
  },
  {
   "cell_type": "code",
   "execution_count": 23,
   "metadata": {
    "collapsed": false
   },
   "outputs": [
    {
     "name": "stdout",
     "output_type": "stream",
     "text": [
      "{'1A_01.爱情与金钱.txt': 44130, '1A_02.苏格兰玛丽女王.txt': 46896, '1A_03.在月亮下面.txt': 36327, '1A_04.潘德尔的巫师.txt': 41528, '1A_05.歌剧院的幽灵.txt': 46384, '1A_06.猴爪.txt': 33984, '1A_07.象人.txt': 37338, '1A_08.世界上最冷的地方.txt': 41883}\n"
     ]
    }
   ],
   "source": [
    "y=open('json.txt','r')\n",
    "print(y.read())\n",
    "y.close()"
   ]
  },
  {
   "cell_type": "code",
   "execution_count": 26,
   "metadata": {
    "collapsed": false
   },
   "outputs": [
    {
     "name": "stdout",
     "output_type": "stream",
     "text": [
      "<class 'dict'>\n"
     ]
    }
   ],
   "source": [
    "print(type(FileDict))"
   ]
  },
  {
   "cell_type": "code",
   "execution_count": 35,
   "metadata": {
    "collapsed": true
   },
   "outputs": [],
   "source": [
    "import json\n",
    "from pprint import pprint"
   ]
  },
  {
   "cell_type": "code",
   "execution_count": 38,
   "metadata": {
    "collapsed": false
   },
   "outputs": [],
   "source": [
    "info_string = \"\"\"\n",
    "{\n",
    "    \"name\": \"echo\",\n",
    "    \"age\": 24,\n",
    "    \"coding skills\": [\"python\", \"matlab\", \"java\", \"c\", \"c++\", \"ruby\", \"scala\"],\n",
    "    \"ages for school\": { \n",
    "        \"primary school\": 6,\n",
    "        \"middle school\": 9,\n",
    "        \"high school\": 15,\n",
    "        \"university\": 18\n",
    "    },\n",
    "    \"hobby\": [\"sports\", \"reading\"],\n",
    "    \"married\": false\n",
    "}\n",
    "\"\"\""
   ]
  },
  {
   "cell_type": "code",
   "execution_count": 41,
   "metadata": {
    "collapsed": false
   },
   "outputs": [
    {
     "name": "stdout",
     "output_type": "stream",
     "text": [
      "{'age': 24,\n",
      " 'ages for school': {'high school': 15,\n",
      "                     'middle school': 9,\n",
      "                     'primary school': 6,\n",
      "                     'university': 18},\n",
      " 'coding skills': ['python', 'matlab', 'java', 'c', 'c++', 'ruby', 'scala'],\n",
      " 'hobby': ['sports', 'reading'],\n",
      " 'married': False,\n",
      " 'name': 'echo'}\n",
      "<class 'dict'>\n"
     ]
    }
   ],
   "source": [
    "info = json.loads(info_string)\n",
    "\n",
    "pprint(info)\n",
    "print(type(info))"
   ]
  },
  {
   "cell_type": "code",
   "execution_count": 43,
   "metadata": {
    "collapsed": false
   },
   "outputs": [
    {
     "name": "stdout",
     "output_type": "stream",
     "text": [
      "{'name': 'echo', 'age': 24, 'coding skills': ['python', 'matlab', 'java', 'c', 'c++', 'ruby', 'scala'], 'ages for school': {'primary school': 6, 'middle school': 9, 'high school': 15, 'university': 18}, 'hobby': ['sports', 'reading'], 'married': False}\n"
     ]
    }
   ],
   "source": [
    "tch=json.dumps(info)\n",
    "print(info)"
   ]
  },
  {
   "cell_type": "code",
   "execution_count": 42,
   "metadata": {
    "collapsed": false
   },
   "outputs": [
    {
     "name": "stdout",
     "output_type": "stream",
     "text": [
      "{\"1A_01.\\u7231\\u60c5\\u4e0e\\u91d1\\u94b1.txt\": 44130, \"1A_02.\\u82cf\\u683c\\u5170\\u739b\\u4e3d\\u5973\\u738b.txt\": 46896, \"1A_03.\\u5728\\u6708\\u4eae\\u4e0b\\u9762.txt\": 36327, \"1A_04.\\u6f58\\u5fb7\\u5c14\\u7684\\u5deb\\u5e08.txt\": 41528, \"1A_05.\\u6b4c\\u5267\\u9662\\u7684\\u5e7d\\u7075.txt\": 46384, \"1A_06.\\u7334\\u722a.txt\": 33984, \"1A_07.\\u8c61\\u4eba.txt\": 37338, \"1A_08.\\u4e16\\u754c\\u4e0a\\u6700\\u51b7\\u7684\\u5730\\u65b9.txt\": 41883}\n"
     ]
    }
   ],
   "source": [
    "tchange=json.dumps(FileDict)\n",
    "print(tchange)#为什么同样是dict类型,后一种打印出来是二进制格式?\n",
    "print()"
   ]
  },
  {
   "cell_type": "code",
   "execution_count": 33,
   "metadata": {
    "collapsed": false
   },
   "outputs": [],
   "source": [
    "with open(\"json2.json\",\"w\") as f:\n",
    "    json.dump(tchange,f)"
   ]
  },
  {
   "cell_type": "code",
   "execution_count": 49,
   "metadata": {
    "collapsed": false
   },
   "outputs": [],
   "source": [
    "#3. 将上述字典以pickle二进制形式存入文件中；\n",
    "try:\n",
    "    import cPickle as pickle\n",
    "except:\n",
    "    import pickle\n",
    "with open(\"pick.pkl\",\"wb\") as f:\n",
    "    pickle.dump(FileDict,f)\n",
    "f.close()"
   ]
  },
  {
   "cell_type": "code",
   "execution_count": 51,
   "metadata": {
    "collapsed": false
   },
   "outputs": [
    {
     "name": "stdout",
     "output_type": "stream",
     "text": [
      "{'1A_01.爱情与金钱.txt': 44130, '1A_02.苏格兰玛丽女王.txt': 46896, '1A_03.在月亮下面.txt': 36327, '1A_04.潘德尔的巫师.txt': 41528, '1A_05.歌剧院的幽灵.txt': 46384, '1A_06.猴爪.txt': 33984, '1A_07.象人.txt': 37338, '1A_08.世界上最冷的地方.txt': 41883}\n"
     ]
    }
   ],
   "source": [
    "with open (\"pick.pkl\",\"rb\") as f:\n",
    "    d=pickle.load(f)\n",
    "print(d)"
   ]
  }
 ],
 "metadata": {
  "kernelspec": {
   "display_name": "Python 3",
   "language": "python",
   "name": "python3"
  },
  "language_info": {
   "codemirror_mode": {
    "name": "ipython",
    "version": 3
   },
   "file_extension": ".py",
   "mimetype": "text/x-python",
   "name": "python",
   "nbconvert_exporter": "python",
   "pygments_lexer": "ipython3",
   "version": "3.6.0"
  }
 },
 "nbformat": 4,
 "nbformat_minor": 2
}
